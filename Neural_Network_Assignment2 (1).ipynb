{
  "nbformat": 4,
  "nbformat_minor": 0,
  "metadata": {
    "colab": {
      "provenance": []
    },
    "kernelspec": {
      "name": "python3",
      "display_name": "Python 3"
    },
    "language_info": {
      "name": "python"
    }
  },
  "cells": [
    {
      "cell_type": "markdown",
      "source": [],
      "metadata": {
        "id": "d511ZZt06xnT"
      }
    },
    {
      "cell_type": "code",
      "execution_count": 4,
      "metadata": {
        "colab": {
          "base_uri": "https://localhost:8080/"
        },
        "id": "gMb9DRjc5pGv",
        "outputId": "afd44fb5-10f8-4e6e-8e80-e1abea01940d"
      },
      "outputs": [
        {
          "output_type": "stream",
          "name": "stdout",
          "text": [
            "Enter fisrt Name:Dakul phani pavan\n",
            "enter Last Name:Dasari\n",
            "Complete Name: Dakul phani pavanDasari\n",
            "output: Dklpaipvnaai\n"
          ]
        }
      ],
      "source": [
        "def fullname(first,last):  # Takes two parameters first and last names\n",
        "  return f\"{first}{last}\"  # concatenation of first and last names\n",
        "def string_alternative(full_name):\n",
        "  return full_name[::2]   # takes full_name parameter and form new string\n",
        "first =input(\"Enter fisrt Name:\")\n",
        "last = input(\"enter Last Name:\")\n",
        "full_name = fullname(first,last) # Calling fullname\n",
        "print(\"Complete Name:\",full_name)\n",
        "output = string_alternative(full_name) # calling the alternative string\n",
        "print(\"output:\",output)"
      ]
    },
    {
      "cell_type": "code",
      "source": [
        "f = open(\"input.txt\",\"w\")   # creating a file\n",
        "f.write(\"Python Course\\n\")\n",
        "f.write(\"Deep Learning Course\\n\")\n",
        "f.close()\n",
        "f= open(\"input.txt\",\"r\")  # reading a file\n",
        "print(f.read())"
      ],
      "metadata": {
        "colab": {
          "base_uri": "https://localhost:8080/"
        },
        "id": "e1AbWWbN52mT",
        "outputId": "7ac92e97-aa8a-4fc8-f9a7-d76cb63a2ca1"
      },
      "execution_count": 2,
      "outputs": [
        {
          "output_type": "stream",
          "name": "stdout",
          "text": [
            "Python Course\n",
            "Deep Learning Course\n",
            "\n"
          ]
        }
      ]
    },
    {
      "cell_type": "code",
      "source": [
        "from collections import Counter  # importing the file\n",
        "with open('input.txt', 'r') as file:   # opening the file\n",
        "    lines = file.readlines()  # read all lines of the files\n",
        "word_per_line = []\n",
        "for line in lines:\n",
        "    words = line.strip().split() # split() used to split the words # removes the white spaces\n",
        "    word_per_line.append(Counter(words)) # uses the counter to count the occurance of each word\n",
        "for line in lines:\n",
        "    print(line.strip()) # print the lines after white space removing\n",
        "print(\"Word_Count:\") # print the word count\n",
        "for word, count in Counter(word for wc in word_per_line for word in wc).items():\n",
        "    print(f\"{word}: {count}\")\n",
        "with open('output.txt', 'w') as output_file:\n",
        "    for line in lines:\n",
        "        output_file.write(line)\n",
        "    output_file.write(\"Word_Count:\\n\") # stores the output in output.txt file\n",
        "    for word, count in Counter(word for wc in word_per_line for word in wc).items():\n",
        "        output_file.write(f\"{word}: {count}\\n\")"
      ],
      "metadata": {
        "colab": {
          "base_uri": "https://localhost:8080/"
        },
        "id": "oZnm6kg_6FtC",
        "outputId": "f554b667-1517-4e73-f2ba-ba115a06f1fe"
      },
      "execution_count": 3,
      "outputs": [
        {
          "output_type": "stream",
          "name": "stdout",
          "text": [
            "Python Course\n",
            "Deep Learning Course\n",
            "Word_Count:\n",
            "Python: 1\n",
            "Course: 2\n",
            "Deep: 1\n",
            "Learning: 1\n"
          ]
        }
      ]
    },
    {
      "cell_type": "code",
      "source": [
        "def convert_heights(heights_inches): # takes the heights in inches\n",
        "    return [round(height * 2.54, 2) for height in heights_inches] # convert height inches to cm\n",
        "num_cust = int(input(\"No.of customers: \"))\n",
        "heights_inches = [float(input(f\"Enter height in inches for customer {i + 1}: \")) for i in range(num_cust)]\n",
        "heights_cm = convert_heights(heights_inches)\n",
        "print(\"Heights in Centimeters:\", heights_cm)"
      ],
      "metadata": {
        "colab": {
          "base_uri": "https://localhost:8080/"
        },
        "id": "6E7fSvk66MEl",
        "outputId": "eb3f129e-a70b-4312-e682-db70385b3497"
      },
      "execution_count": null,
      "outputs": [
        {
          "output_type": "stream",
          "name": "stdout",
          "text": [
            "No.of customers: 4\n",
            "Enter height in inches for customer 1: 150\n",
            "Enter height in inches for customer 2: 155\n",
            "Enter height in inches for customer 3: 160\n",
            "Enter height in inches for customer 4: 165\n",
            "Heights in Centimeters: [381.0, 393.7, 406.4, 419.1]\n"
          ]
        }
      ]
    }
  ]
}